{
 "cells": [
  {
   "cell_type": "markdown",
   "id": "58ce276b-16fc-4748-b946-174cb29ccf14",
   "metadata": {},
   "source": [
    "# **Retails Order Dataset Write Up**"
   ]
  },
  {
   "cell_type": "markdown",
   "id": "35ead847-4f2c-47a4-99f3-9479690eb454",
   "metadata": {},
   "source": [
    "## Decision to Merge Asst 5\n",
    "\n",
    "After reviewing both the Assignment 3 Project and the Assignment 5 Project, I decided to combine them into one comprehensive dataset. This merge will \n",
    "\n",
    "improve the depth of analysis by linking transactional data with customer-specific details, providing a complete view of customer behavior, sales \n",
    "\n",
    "performance, and business trends."
   ]
  },
  {
   "cell_type": "markdown",
   "id": "a885f68d-f283-4806-bf87-c28044a05d34",
   "metadata": {},
   "source": [
    "## Project Summary \n",
    "\n",
    "The Assignment 3 project analyzed a retail order dataset to understand sales performance, customer behavior, and profitability trends. The dataset included details \n",
    "\n",
    "like orders, product categories, revenue, and profit margins, helping to evaluate sales trends over time. Key tasks included:\n",
    "\n",
    "1. **Sales Performance Analysis:** Looking at revenue across product categories and finding the top-performing ones.\n",
    "   \n",
    "2. **Profitability Insights:** Identifying which categories contributed the most to profits.\n",
    "\n",
    "3. **Customer Behavior Analysis:** Studying patterns like order frequency, average order value, and seasonal sales changes.\n",
    "\n",
    "### Findings & Insights\n",
    "\n",
    "**Sales Trends & Seasonal Changes**\n",
    "\n",
    "    -Sales fluctuated throughout the year, with noticeable ups and downs.\n",
    "\n",
    "    -Revenue peaked in December, likely due to holiday shopping.\n",
    "\n",
    "    -These trends show seasonal demand changes, which can help with inventory planning and promotional strategies.\n",
    "\n",
    "**Product Category Performance**\n",
    "\n",
    "    -Technology products were the most profitable, followed by Office Supplies.\n",
    "\n",
    "    -Furniture had the lowest profit margins, even though sales were steady.\n",
    "\n",
    "    -Businesses could focus more on high-margin categories and adjust pricing or promotions for low-performing ones.\n",
    "\n",
    "**Profitability by Weekday vs. Weekend**\n",
    "\n",
    "    -Monday and Friday were the most profitable days, with strong sales before and after the weekend.\n",
    "\n",
    "    -Wednesday had the lowest profits, showing a mid-week sales slowdown.\n",
    "\n",
    "    -These patterns can help businesses plan marketing efforts or flash sales for slower days.\n",
    "\n",
    "**Return Rates & Shipping Impact**\n",
    "\n",
    "    -Standard Class shipping had the highest return rate, possibly due to customer dissatisfaction with delivery times or product quality.\n",
    "\n",
    "    -Same Day shipping had fewer returns, suggesting higher customer satisfaction.\n",
    "\n",
    "    -These insights can guide improvements in shipping options and customer experience.\n"
   ]
  },
  {
   "cell_type": "markdown",
   "id": "5ebd4349-48f0-4a01-b979-c3cb200d0e38",
   "metadata": {},
   "source": [
    "## Justification for Merging the Two Projects\n",
    "\n",
    "Combining the new customer dataset with the retail order dataset can improve analysis and decision-making. Here’s why:\n",
    "\n",
    "1. **Customer Segmentation & Personalization**\n",
    "\n",
    "-Adding customer details like location, age, and buying habits allows businesses to group customers and create targeted marketing campaigns.\n",
    "\n",
    "2. **Better Customer Lifetime Value (CLV) Analysis**\n",
    "\n",
    "-Tracking repeat purchases and identifying high-value customers helps businesses design loyalty programs and retention strategies.\n",
    "\n",
    "3. **Improved Sales Forecasting & Demand Prediction**\n",
    "\n",
    "-Linking customer details to sales transactions gives a clearer picture of buying behavior, helping businesses plan inventory and stock better.\n",
    "\n",
    "4. **Data-Driven Decisions**\n",
    "\n",
    "-With more customer data, businesses can improve pricing, customer service, and product recommendations, leading to smarter decisions.\n",
    "\n",
    "    "
   ]
  },
  {
   "cell_type": "markdown",
   "id": "52036f50-8267-47f7-914c-325e3dd85772",
   "metadata": {},
   "source": [
    "## Conclusion\n",
    "\n",
    "Merging the new customer dataset with the retail order dataset adds valuable insights into customer demographics and behavior. It helps predict \n",
    "\n",
    "customer needs, improve marketing, and refine business strategies. This merge is a logical next step for a more complete, data-driven approach, \n",
    "\n",
    "boosting revenue and customer satisfaction.\n"
   ]
  },
  {
   "cell_type": "code",
   "execution_count": null,
   "id": "e55ec276-beaf-4f5e-9f24-2db5fc07423e",
   "metadata": {},
   "outputs": [],
   "source": []
  }
 ],
 "metadata": {
  "kernelspec": {
   "display_name": "Python [conda env:base] *",
   "language": "python",
   "name": "conda-base-py"
  },
  "language_info": {
   "codemirror_mode": {
    "name": "ipython",
    "version": 3
   },
   "file_extension": ".py",
   "mimetype": "text/x-python",
   "name": "python",
   "nbconvert_exporter": "python",
   "pygments_lexer": "ipython3",
   "version": "3.12.7"
  }
 },
 "nbformat": 4,
 "nbformat_minor": 5
}
